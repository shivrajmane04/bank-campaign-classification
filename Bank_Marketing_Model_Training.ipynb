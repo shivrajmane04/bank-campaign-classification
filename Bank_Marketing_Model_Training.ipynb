{
 "cells": [
  {
   "cell_type": "markdown",
   "id": "d28fd493",
   "metadata": {},
   "source": [
    "# Bank Marketing Campaign - Model Training\n",
    "This notebook trains a machine learning pipeline on the Bank Marketing dataset and saves the model using joblib."
   ]
  },
  {
   "cell_type": "code",
   "execution_count": 1,
   "id": "95820b23",
   "metadata": {},
   "outputs": [],
   "source": [
    "\n",
    "import pandas as pd\n",
    "import numpy as np\n",
    "from sklearn.model_selection import train_test_split\n",
    "from sklearn.pipeline import Pipeline\n",
    "from sklearn.compose import ColumnTransformer\n",
    "from sklearn.impute import SimpleImputer\n",
    "from sklearn.preprocessing import OneHotEncoder, StandardScaler\n",
    "from sklearn.ensemble import RandomForestClassifier\n",
    "from sklearn.metrics import classification_report, roc_auc_score\n",
    "import joblib\n",
    "import os\n"
   ]
  },
  {
   "cell_type": "code",
   "execution_count": 4,
   "id": "7087067a",
   "metadata": {},
   "outputs": [],
   "source": [
    "\n",
    "DATA_PATH = \"data/bank-full.csv\"   # Update if needed\n",
    "MODEL_PATH = \"models/pipeline.joblib\"\n",
    "\n",
    "def load_data(path=DATA_PATH):\n",
    "    # Try both separators (; and ,)\n",
    "    try:\n",
    "        df = pd.read_csv(path, sep=';')\n",
    "        if len(df.columns) == 1:\n",
    "            df = pd.read_csv(path, sep=',')\n",
    "    except Exception:\n",
    "        df = pd.read_csv(path, sep=',')\n",
    "    return df\n",
    "\n",
    "def build_pipeline(numeric_features, categorical_features):\n",
    "    numeric_transformer = Pipeline(steps=[\n",
    "        ('imputer', SimpleImputer(strategy='median')),\n",
    "        ('scaler', StandardScaler())\n",
    "    ])\n",
    "\n",
    "    categorical_transformer = Pipeline(steps=[\n",
    "        ('imputer', SimpleImputer(strategy='constant', fill_value='unknown')),\n",
    "        ('onehot', OneHotEncoder(handle_unknown='ignore', sparse_output=False))\n",
    "    ])\n",
    "\n",
    "    preprocessor = ColumnTransformer(\n",
    "        transformers=[\n",
    "            ('num', numeric_transformer, numeric_features),\n",
    "            ('cat', categorical_transformer, categorical_features)\n",
    "        ]\n",
    "    )\n",
    "\n",
    "    clf = Pipeline(steps=[\n",
    "        ('preprocessor', preprocessor),\n",
    "        ('classifier', RandomForestClassifier(\n",
    "            n_estimators=200, random_state=42, class_weight='balanced'))\n",
    "    ])\n",
    "    return clf\n",
    "\n",
    "\n",
    "def train_and_save():\n",
    "    df = load_data()\n",
    "    print(\"Columns:\", df.columns.tolist())\n",
    "\n",
    "    # detect target column\n",
    "    possible_targets = ['y', 'deposit', 'subscribed', 'Target']\n",
    "    target_col = next((c for c in possible_targets if c in df.columns), None)\n",
    "    if target_col is None:\n",
    "        raise ValueError(f\"Target not found. Columns: {df.columns.tolist()}\")\n",
    "\n",
    "    df[target_col] = df[target_col].map({'yes':1,'no':0,'1':1,'0':0}).astype(int)\n",
    "    X = df.drop(columns=[target_col])\n",
    "    y = df[target_col]\n",
    "\n",
    "    numeric_features = ['age', 'balance', 'day', 'duration', 'campaign', 'pdays', 'previous']\n",
    "    categorical_features = [c for c in X.columns if c not in numeric_features]\n",
    "\n",
    "    X_train, X_test, y_train, y_test = train_test_split(\n",
    "        X, y, stratify=y, test_size=0.2, random_state=42\n",
    "    )\n",
    "\n",
    "    pipeline = build_pipeline(numeric_features, categorical_features)\n",
    "    pipeline.fit(X_train, y_train)\n",
    "\n",
    "    preds = pipeline.predict(X_test)\n",
    "    probs = pipeline.predict_proba(X_test)[:, 1]\n",
    "    print(\"Classification report:\\n\", classification_report(y_test, preds))\n",
    "    print(\"ROC AUC:\", roc_auc_score(y_test, probs))\n",
    "\n",
    "    os.makedirs(os.path.dirname(MODEL_PATH), exist_ok=True)\n",
    "    joblib.dump({\n",
    "        'pipeline': pipeline,\n",
    "        'numeric_features': numeric_features,\n",
    "        'categorical_features': categorical_features,\n",
    "        'target_col': target_col\n",
    "    }, MODEL_PATH)\n",
    "    print(f\"Model saved to {MODEL_PATH}\")\n"
   ]
  },
  {
   "cell_type": "code",
   "execution_count": null,
   "id": "9b652f37",
   "metadata": {},
   "outputs": [],
   "source": []
  },
  {
   "cell_type": "code",
   "execution_count": 5,
   "id": "e6dbc75e",
   "metadata": {},
   "outputs": [
    {
     "name": "stdout",
     "output_type": "stream",
     "text": [
      "Columns: ['age', 'job', 'marital', 'education', 'default', 'balance', 'housing', 'loan', 'contact', 'day', 'month', 'duration', 'campaign', 'pdays', 'previous', 'poutcome', 'Target']\n",
      "Classification report:\n",
      "               precision    recall  f1-score   support\n",
      "\n",
      "           0       0.92      0.98      0.95      7985\n",
      "           1       0.69      0.34      0.45      1058\n",
      "\n",
      "    accuracy                           0.91      9043\n",
      "   macro avg       0.81      0.66      0.70      9043\n",
      "weighted avg       0.89      0.91      0.89      9043\n",
      "\n",
      "ROC AUC: 0.928626630982241\n",
      "Model saved to models/pipeline.joblib\n"
     ]
    }
   ],
   "source": [
    "train_and_save()"
   ]
  },
  {
   "cell_type": "code",
   "execution_count": null,
   "id": "506b58fc",
   "metadata": {},
   "outputs": [],
   "source": []
  },
  {
   "cell_type": "code",
   "execution_count": null,
   "id": "9a7cf933",
   "metadata": {},
   "outputs": [],
   "source": []
  },
  {
   "cell_type": "code",
   "execution_count": null,
   "id": "d0dc37eb",
   "metadata": {},
   "outputs": [],
   "source": []
  }
 ],
 "metadata": {
  "kernelspec": {
   "display_name": "venv",
   "language": "python",
   "name": "python3"
  },
  "language_info": {
   "codemirror_mode": {
    "name": "ipython",
    "version": 3
   },
   "file_extension": ".py",
   "mimetype": "text/x-python",
   "name": "python",
   "nbconvert_exporter": "python",
   "pygments_lexer": "ipython3",
   "version": "3.12.7"
  }
 },
 "nbformat": 4,
 "nbformat_minor": 5
}
